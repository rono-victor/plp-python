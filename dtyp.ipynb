{
 "cells": [
  {
   "cell_type": "code",
   "execution_count": 32,
   "metadata": {},
   "outputs": [
    {
     "name": "stdout",
     "output_type": "stream",
     "text": [
      "coz of rush\n"
     ]
    },
    {
     "data": {
      "text/plain": [
       "'lets see what this prints out'"
      ]
     },
     "execution_count": 32,
     "metadata": {},
     "output_type": "execute_result"
    }
   ],
   "source": [
    "#comments in python\n",
    "monday =  'coz of rush'\n",
    "print(monday)\n",
    "'''this is how to comment multiple lines'''\n",
    "example = '''lets see what this prints out'''\n",
    "example"
   ]
  },
  {
   "cell_type": "code",
   "execution_count": 11,
   "metadata": {},
   "outputs": [
    {
     "name": "stdout",
     "output_type": "stream",
     "text": [
      "new year.2024.see you soon!\n"
     ]
    }
   ],
   "source": [
    "#printing \n",
    "print(\"new year\", \"2024\", \"see you soon!\", sep='.')"
   ]
  },
  {
   "cell_type": "code",
   "execution_count": 23,
   "metadata": {},
   "outputs": [
    {
     "name": "stdout",
     "output_type": "stream",
     "text": [
      "hello ron you are 22years old and you live inny\n"
     ]
    }
   ],
   "source": [
    "#user inputs, saving ina variabe and printing out results \n",
    "name = input(\"Enter your name:\")\n",
    "age = input(\"what is your age?\")\n",
    "location = input(\"where is your location?\")\n",
    "print(f'hello {name} you are {age}years old and you live in{location}')"
   ]
  },
  {
   "cell_type": "code",
   "execution_count": 35,
   "metadata": {},
   "outputs": [
    {
     "name": "stdout",
     "output_type": "stream",
     "text": [
      "swift\n",
      "python\n",
      "java\n",
      "matlab\n",
      "True\n"
     ]
    }
   ],
   "source": [
    "#lists\n",
    "languages = ['swift','python','kotlin']\n",
    "languages\n",
    "#list indexing \n",
    "languages[2]='java'\n",
    "languages\n",
    "#list appending\n",
    "addlang=['c','matlab']\n",
    "languages.extend(addlang)\n",
    "languages\n",
    "#delete an item on a list\n",
    "del languages[3]\n",
    "languages\n",
    "#looping n lists\n",
    "for language in languages:\n",
    "    print(language)\n",
    "\n",
    "#checkif an item exists in a list\n",
    "print('java' in languages)"
   ]
  },
  {
   "cell_type": "code",
   "execution_count": 42,
   "metadata": {},
   "outputs": [
    {
     "data": {
      "text/plain": [
       "[1, 4, 9, 16, 25, 36, 49]"
      ]
     },
     "execution_count": 42,
     "metadata": {},
     "output_type": "execute_result"
    }
   ],
   "source": [
    "#list comprehension\n",
    "numbers = [number*number for number in range(1,8)]\n",
    "numbers"
   ]
  },
  {
   "cell_type": "code",
   "execution_count": 51,
   "metadata": {},
   "outputs": [
    {
     "name": "stdout",
     "output_type": "stream",
     "text": [
      "1\n",
      "2\n",
      "4\n"
     ]
    }
   ],
   "source": [
    "#What is the output of the following code snippet:\n",
    "\n",
    "if 'bar' in {'foo': 1, 'bar': 2, 'baz': 3}:\n",
    "    print(1)\n",
    "    print(2)\n",
    "    if 'a' in 'qux':\n",
    "        print(3)\n",
    "print(4)"
   ]
  },
  {
   "cell_type": "code",
   "execution_count": 56,
   "metadata": {},
   "outputs": [
    {
     "data": {
      "text/plain": [
       "True"
      ]
     },
     "execution_count": 56,
     "metadata": {},
     "output_type": "execute_result"
    }
   ],
   "source": [
    "'1232' .isdigit()"
   ]
  },
  {
   "cell_type": "code",
   "execution_count": 88,
   "metadata": {},
   "outputs": [
    {
     "name": "stdout",
     "output_type": "stream",
     "text": [
      "['10', '15', '30', '60', '50', '70']\n"
     ]
    },
    {
     "data": {
      "text/plain": [
       "2"
      ]
     },
     "execution_count": 88,
     "metadata": {},
     "output_type": "execute_result"
    }
   ],
   "source": [
    "mylist = ['10','20','30']\n",
    "my_list =[]\n",
    "elements = range(10,40,10)\n",
    "list(elements)\n",
    "my_list.append(list(elements))\n",
    "my_list\n",
    "#my_list[2] = '15'\n",
    "#my_list\n",
    "ext = ['60','50','70']\n",
    "mylist[1] = '15'\n",
    "mylist.extend(ext)\n",
    "print(mylist)\n",
    "mylist.pop()\n",
    "mylist.sort()\n",
    "mylist\n",
    "mylist.index('30')"
   ]
  }
 ],
 "metadata": {
  "kernelspec": {
   "display_name": "Python 3",
   "language": "python",
   "name": "python3"
  },
  "language_info": {
   "codemirror_mode": {
    "name": "ipython",
    "version": 3
   },
   "file_extension": ".py",
   "mimetype": "text/x-python",
   "name": "python",
   "nbconvert_exporter": "python",
   "pygments_lexer": "ipython3",
   "version": "3.10.11"
  }
 },
 "nbformat": 4,
 "nbformat_minor": 2
}
