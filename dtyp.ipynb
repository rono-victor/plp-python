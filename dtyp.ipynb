{
 "cells": [
  {
   "cell_type": "code",
   "execution_count": 32,
   "metadata": {},
   "outputs": [
    {
     "name": "stdout",
     "output_type": "stream",
     "text": [
      "coz of rush\n"
     ]
    },
    {
     "data": {
      "text/plain": [
       "'lets see what this prints out'"
      ]
     },
     "execution_count": 32,
     "metadata": {},
     "output_type": "execute_result"
    }
   ],
   "source": [
    "#comments in python\n",
    "monday =  'coz of rush'\n",
    "print(monday)\n",
    "'''this is how to comment multiple lines'''\n",
    "example = '''lets see what this prints out'''\n",
    "example"
   ]
  },
  {
   "cell_type": "code",
   "execution_count": 11,
   "metadata": {},
   "outputs": [
    {
     "name": "stdout",
     "output_type": "stream",
     "text": [
      "new year.2024.see you soon!\n"
     ]
    }
   ],
   "source": [
    "#printing \n",
    "print(\"new year\", \"2024\", \"see you soon!\", sep='.')"
   ]
  },
  {
   "cell_type": "code",
   "execution_count": 23,
   "metadata": {},
   "outputs": [
    {
     "name": "stdout",
     "output_type": "stream",
     "text": [
      "hello ron you are 22years old and you live inny\n"
     ]
    }
   ],
   "source": [
    "#user inputs, saving ina variabe and printing out results \n",
    "name = input(\"Enter your name:\")\n",
    "age = input(\"what is your age?\")\n",
    "location = input(\"where is your location?\")\n",
    "print(f'hello {name} you are {age}years old and you live in{location}')"
   ]
  },
  {
   "cell_type": "code",
   "execution_count": 30,
   "metadata": {},
   "outputs": [
    {
     "data": {
      "text/plain": [
       "['swift', 'python', 'java', 'c', 'matlab']"
      ]
     },
     "execution_count": 30,
     "metadata": {},
     "output_type": "execute_result"
    }
   ],
   "source": [
    "#lists\n",
    "languages = ['swift','python','kotlin']\n",
    "languages\n",
    "#list indexing \n",
    "languages[2]='java'\n",
    "languages\n",
    "#list appending\n",
    "addlang=['c','matlab']\n",
    "languages.extend(addlang)\n",
    "languages"
   ]
  }
 ],
 "metadata": {
  "kernelspec": {
   "display_name": "Python 3",
   "language": "python",
   "name": "python3"
  },
  "language_info": {
   "codemirror_mode": {
    "name": "ipython",
    "version": 3
   },
   "file_extension": ".py",
   "mimetype": "text/x-python",
   "name": "python",
   "nbconvert_exporter": "python",
   "pygments_lexer": "ipython3",
   "version": "3.10.11"
  }
 },
 "nbformat": 4,
 "nbformat_minor": 2
}
